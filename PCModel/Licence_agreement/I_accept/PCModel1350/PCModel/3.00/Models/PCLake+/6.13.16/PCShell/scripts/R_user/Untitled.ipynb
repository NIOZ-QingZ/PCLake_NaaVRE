{
 "cells": [
  {
   "cell_type": "code",
   "execution_count": 1,
   "id": "64368644-82b3-4d8a-964c-4943629d16b3",
   "metadata": {},
   "outputs": [],
   "source": [
    "##~~~~~~~~~~~~~~~~~~~~~~~~~~~~~~~~~~~~~~~~~~~~~~~~~~~~~~~~~~~~~~~~~~~~~~~\n",
    "##~~~~~~~~~~~~~~~~~~~~~~~~~~~~~~~~~~~~~~~~~~~~~~~~~~~~~~~~~~~~~~~~~~~~~~~\n",
    "## Default PCLake+ R script\n",
    "##\n",
    "## This script was developed by Lilith Kramer, Sven Teurlincx and Luuk van Gerven\n",
    "##\n",
    "## Order of actions\n",
    "##   1. Setting directories and sourcing helper scripts\n",
    "##   2. Making folder structure for running the model\n",
    "##   3. Load DATM file \n",
    "##   4. Optional: Make adjustments to the model \n",
    "##   5. Make and adjust cpp files\n",
    "##   6. Compile model\n",
    "##   7. Initialize model\n",
    "##   8. Run model\n",
    "##   9. Plot\n",
    "## \n",
    "## NB: you cannot use different combinations of forcings for different lakes. e.g. \n",
    "##      - in lake 1: mQInEpi & mQInHyp\n",
    "##      - in lake 2: mPLoad\n",
    "##     You'll have to add for both: mQInEpi, mQInHyp AND mPLoad, and adjust the forcing values accordingly \n",
    "##~~~~~~~~~~~~~~~~~~~~~~~~~~~~~~~~~~~~~~~~~~~~~~~~~~~~~~~~~~~~~~~~~~~~~~~\n",
    "##~~~~~~~~~~~~~~~~~~~~~~~~~~~~~~~~~~~~~~~~~~~~~~~~~~~~~~~~~~~~~~~~~~~~~~~\n",
    "\n",
    "## Clean work environment (optional)\n",
    "# rm(list=ls())\n",
    "\n",
    "## Global settings (optional)\n",
    "options(scipen = 999) ## turn off scientific notation for small or very large numbers\n",
    "nearZero <- 1E-28"
   ]
  },
  {
   "cell_type": "code",
   "execution_count": null,
   "id": "bda1753a-b4be-4028-bb74-6748834bfb8c",
   "metadata": {},
   "outputs": [],
   "source": []
  }
 ],
 "metadata": {
  "kernelspec": {
   "display_name": "R",
   "language": "R",
   "name": "ir"
  },
  "language_info": {
   "codemirror_mode": "r",
   "file_extension": ".r",
   "mimetype": "text/x-r-source",
   "name": "R",
   "pygments_lexer": "r",
   "version": "4.3.3"
  }
 },
 "nbformat": 4,
 "nbformat_minor": 5
}
